{
 "cells": [
  {
   "cell_type": "markdown",
   "metadata": {},
   "source": [
    "# Table of Contents\n",
    "* [overview](#overview)\n"
   ]
  },
  {
   "cell_type": "code",
   "execution_count": 653,
   "metadata": {
    "run_control": {
     "frozen": false,
     "read_only": false
    }
   },
   "outputs": [],
   "source": [
    "%%capture\n",
    "from __future__ import division\n",
    "import numpy as np\n",
    "import pandas as pd\n",
    "import scipy.stats as st\n",
    "import itertools\n",
    "from tqdm import tqdm as tqdm\n",
    "from collections import defaultdict\n",
    "from collections import Counter\n",
    "pd.options.mode.chained_assignment = None\n",
    "%load_ext autoreload\n",
    "%autoreload 2\n",
    "\n",
    "import matplotlib as mpl\n",
    "mpl.use(\"Agg\")\n",
    "import matplotlib.pylab as plt\n",
    "#%matplotlib notebook\n",
    "%matplotlib inline\n",
    "%load_ext base16_mplrc\n",
    "%base16_mplrc light default\n",
    "#%base16_mplrc dark solarized\n",
    "plt.rcParams['grid.linewidth'] = 0\n",
    "plt.rcParams['figure.figsize'] = (16.0, 10.0)\n",
    "\n",
    "import os\n",
    "import cv2\n",
    "import PIL.Image as Image"
   ]
  },
  {
   "cell_type": "code",
   "execution_count": 655,
   "metadata": {},
   "outputs": [],
   "source": [
    "plt.rcParams['axes.facecolor']='white'\n",
    "plt.rcParams['savefig.facecolor']='white'"
   ]
  },
  {
   "cell_type": "code",
   "execution_count": 903,
   "metadata": {},
   "outputs": [],
   "source": [
    "def make_standard_fig(fig_plt, fig_labels=None, save = False, outfile='fig.pdf', main_color=None, label_color = '0.25'):\n",
    "    if fig_labels:\n",
    "        if 'fig_title' in fig_labels:\n",
    "            plt.title(fig_labels['fig_title'], fontsize=35, verticalalignment='bottom', color=label_color, y=1.08)\n",
    "        if 'y_label' in fig_labels:\n",
    "            plt.ylabel(fig_labels['y_label'], fontsize=35, labelpad=10, color=label_color)\n",
    "        if 'x_label' in fig_labels:\n",
    "            plt.xlabel(fig_labels['x_label'], fontsize=30, labelpad=10, color=label_color)\n",
    "    plt.tick_params(axis='x', which='major', labelsize=28)\n",
    "    plt.tick_params(axis='y', which='major', labelsize=23)\n",
    "    if save:\n",
    "        plt.savefig(outfile, bbox_inches='tight', facecolor=(1, 1, 1, 1))"
   ]
  },
  {
   "cell_type": "markdown",
   "metadata": {
    "run_control": {
     "frozen": false,
     "read_only": false
    }
   },
   "source": [
    "# overview"
   ]
  },
  {
   "cell_type": "markdown",
   "metadata": {},
   "source": [
    "<img  src=\"robot_dataset_section.jpg\"/>"
   ]
  },
  {
   "cell_type": "markdown",
   "metadata": {},
   "source": [
    "# THOR interface"
   ]
  },
  {
   "cell_type": "code",
   "execution_count": 9,
   "metadata": {
    "run_control": {
     "frozen": false,
     "read_only": false
    }
   },
   "outputs": [],
   "source": [
    "from thor_interface.scene_data import get_scene_metadata\n",
    "from thor_interface.scene_data import multiscene"
   ]
  },
  {
   "cell_type": "code",
   "execution_count": 43,
   "metadata": {},
   "outputs": [],
   "source": [
    "import ai2thor.controller\n",
    "import pickle\n",
    "import json\n",
    "\n",
    "\n",
    "controller = ai2thor.controller.Controller()"
   ]
  },
  {
   "cell_type": "code",
   "execution_count": 44,
   "metadata": {},
   "outputs": [],
   "source": [
    "def get_scene_metadata(scene_id):\n",
    "    print(scene_id)\n",
    "    controller.reset(scene_id)\n",
    "    meta_event = controller.step(dict(action='Initialize', gridSize=0.25))\n",
    "    return meta_event.metadata"
   ]
  },
  {
   "cell_type": "code",
   "execution_count": 151,
   "metadata": {},
   "outputs": [],
   "source": [
    "used_arget_objs = ['Television', 'Mug', 'Apple', 'AlarmClock', 'BasketBall']\n",
    "\n",
    "\n",
    "all_targets = [\n",
    "                'AlarmClock',  \n",
    "                'Apple',\n",
    "                'BaseballBat',\n",
    "                'BasketBall',\n",
    "                'Bowl',\n",
    "                'GarbageCan',\n",
    "                'HousePlant',\n",
    "                'Laptop',\n",
    "                'Mug',\n",
    "                'Pillow',\n",
    "                'RemoteControl',\n",
    "                'SprayBottle',\n",
    "                'Television',\n",
    "                'Vase',\n",
    "            ]\n",
    "\n",
    "\n",
    "furn_vs_obj_def = {\n",
    "    'ArmChair': 'furniture',\n",
    "    'Bed': 'furniture',\n",
    "     'Book': 'object',\n",
    "     'Bowl': 'object',\n",
    "     'Newspaper': 'object',\n",
    "     'SaltShaker': 'object', \n",
    "     'PepperShaker': 'object', \n",
    "     'ButterKnife': 'object',\n",
    "     'Candle': 'object',\n",
    "     'Pen': 'object',\n",
    "     'Pencil': 'object',\n",
    "     'TennisRacket': 'object',\n",
    "     'TeddyBear': 'object',\n",
    "     'BasketBall': 'object',\n",
    "     'CD': 'object',\n",
    "     'Lamp': 'object',\n",
    "     'Chair': 'furniture',\n",
    "     'Ottoman': 'furniture',\n",
    "     'CoffeeTable': 'furniture',\n",
    "     'TVStand': 'furniture',\n",
    "     'Desk': 'furniture',\n",
    "     'DeskLamp': 'object',\n",
    "     'DiningTable': 'furniture',\n",
    "     'Dresser': 'furniture',\n",
    "     'Drawer': 'furniture',\n",
    "     'Fork': 'object',\n",
    "     'HousePlant': 'object',\n",
    "     'Mug': 'object',\n",
    "     'Plate': 'object',\n",
    "     'Shelf': 'furniture',\n",
    "     'SideTable': 'furniture',\n",
    "     'Sofa': 'furniture',\n",
    "     'FloorLamp': 'furniture',\n",
    "     'Box': 'object',\n",
    "     'Vase': 'object',\n",
    "     'Glassbottle': 'object',\n",
    "     'GarbageCan': 'object',\n",
    "     'SprayBottle': 'object',\n",
    "     'Cup': 'object',\n",
    "     'BaseballBat': 'object',\n",
    "     'Television': 'object',\n",
    "     'Pillow': 'object',\n",
    "     'CellPhone': 'object',\n",
    "     'Apple': 'object',\n",
    "     'Pot': 'object',\n",
    "     'Watch': 'object',\n",
    "     'Statue': 'object',\n",
    "     'Laptop': 'object',\n",
    "     'AlarmClock': 'object',\n",
    "     'RemoteControl': 'object',\n",
    "}"
   ]
  },
  {
   "cell_type": "code",
   "execution_count": 152,
   "metadata": {},
   "outputs": [],
   "source": [
    "furn_obj_df['category'] = furn_obj_df.objectType.apply(lambda x: furn_vs_obj_def[x])"
   ]
  },
  {
   "cell_type": "code",
   "execution_count": 45,
   "metadata": {
    "collapsed": true
   },
   "outputs": [
    {
     "name": "stdout",
     "output_type": "stream",
     "text": [
      "FloorPlan_Train10_1\n",
      "FloorPlan_Train10_2\n",
      "FloorPlan_Train10_3\n",
      "FloorPlan_Train10_4\n",
      "FloorPlan_Train10_5\n",
      "FloorPlan_Train11_1\n",
      "FloorPlan_Train11_2\n",
      "FloorPlan_Train11_3\n",
      "FloorPlan_Train11_4\n",
      "FloorPlan_Train11_5\n",
      "FloorPlan_Train12_1\n",
      "FloorPlan_Train12_2\n",
      "FloorPlan_Train12_3\n",
      "FloorPlan_Train12_4\n",
      "FloorPlan_Train12_5\n",
      "FloorPlan_Train13_1\n",
      "FloorPlan_Train13_2\n",
      "FloorPlan_Train13_3\n",
      "FloorPlan_Train13_4\n",
      "FloorPlan_Train13_5\n",
      "FloorPlan_Train14_1\n",
      "FloorPlan_Train14_2\n",
      "FloorPlan_Train14_3\n",
      "FloorPlan_Train14_4\n",
      "FloorPlan_Train14_5\n",
      "FloorPlan_Train15_1\n",
      "FloorPlan_Train15_2\n",
      "FloorPlan_Train15_3\n",
      "FloorPlan_Train15_4\n",
      "FloorPlan_Train15_5\n",
      "FloorPlan_Train1_1\n",
      "FloorPlan_Train1_2\n",
      "FloorPlan_Train1_3\n",
      "FloorPlan_Train1_4\n",
      "FloorPlan_Train1_5\n",
      "FloorPlan_Train2_1\n",
      "FloorPlan_Train2_2\n",
      "FloorPlan_Train2_3\n",
      "FloorPlan_Train2_4\n",
      "FloorPlan_Train2_5\n",
      "FloorPlan_Train3_1\n",
      "FloorPlan_Train3_2\n",
      "FloorPlan_Train3_3\n",
      "FloorPlan_Train3_4\n",
      "FloorPlan_Train3_5\n",
      "FloorPlan_Train4_1\n",
      "FloorPlan_Train4_2\n",
      "FloorPlan_Train4_3\n",
      "FloorPlan_Train4_4\n",
      "FloorPlan_Train4_5\n",
      "FloorPlan_Train5_1\n",
      "FloorPlan_Train5_2\n",
      "FloorPlan_Train5_3\n",
      "FloorPlan_Train5_4\n",
      "FloorPlan_Train5_5\n",
      "FloorPlan_Train6_1\n",
      "FloorPlan_Train6_2\n",
      "FloorPlan_Train6_3\n",
      "FloorPlan_Train6_4\n",
      "FloorPlan_Train6_5\n",
      "FloorPlan_Train7_1\n",
      "FloorPlan_Train7_2\n",
      "FloorPlan_Train7_3\n",
      "FloorPlan_Train7_4\n",
      "FloorPlan_Train7_5\n",
      "FloorPlan_Train8_1\n",
      "FloorPlan_Train8_2\n",
      "FloorPlan_Train8_3\n",
      "FloorPlan_Train8_4\n",
      "FloorPlan_Train8_5\n",
      "FloorPlan_Train9_1\n",
      "FloorPlan_Train9_2\n",
      "FloorPlan_Train9_3\n",
      "FloorPlan_Train9_4\n",
      "FloorPlan_Train9_5\n",
      "FloorPlan_RTest1_1\n",
      "FloorPlan_RTest1_2\n",
      "FloorPlan_RTest2_1\n",
      "FloorPlan_RTest2_2\n",
      "FloorPlan_RTest3_1\n",
      "FloorPlan_RTest3_2\n",
      "FloorPlan_RTest4_1\n",
      "FloorPlan_RTest4_2\n",
      "FloorPlan_RTest5_1\n",
      "FloorPlan_RTest5_2\n",
      "FloorPlan_RVal1_1\n",
      "FloorPlan_RVal1_2\n",
      "FloorPlan_RVal2_1\n",
      "FloorPlan_RVal2_2\n"
     ]
    }
   ],
   "source": [
    "controller.start()\n",
    "multi_scene_data = {scene_id: get_scene_metadata(scene_id) for scene_id in all_scenes}\n",
    "controller.stop() "
   ]
  },
  {
   "cell_type": "code",
   "execution_count": 167,
   "metadata": {},
   "outputs": [],
   "source": [
    "to = test_md['objects'][0]"
   ]
  },
  {
   "cell_type": "code",
   "execution_count": 168,
   "metadata": {},
   "outputs": [
    {
     "data": {
      "text/plain": [
       "{'name': 'CoffeeTable_d5ef56ac',\n",
       " 'position': {'x': 9.512, 'y': 0.0, 'z': -2.26},\n",
       " 'rotation': {'x': 0.0, 'y': 269.999664, 'z': 0.0},\n",
       " 'cameraHorizon': 0.0,\n",
       " 'visible': False,\n",
       " 'receptacle': True,\n",
       " 'toggleable': False,\n",
       " 'isToggled': False,\n",
       " 'breakable': False,\n",
       " 'isBroken': False,\n",
       " 'canFillWithLiquid': False,\n",
       " 'isFilledWithLiquid': False,\n",
       " 'dirtyable': False,\n",
       " 'isDirty': False,\n",
       " 'canBeUsedUp': False,\n",
       " 'isUsedUp': False,\n",
       " 'cookable': False,\n",
       " 'isCooked': False,\n",
       " 'ObjectTemperature': 'RoomTemp',\n",
       " 'canChangeTempToHot': False,\n",
       " 'canChangeTempToCold': False,\n",
       " 'sliceable': False,\n",
       " 'isSliced': False,\n",
       " 'openable': False,\n",
       " 'isOpen': False,\n",
       " 'pickupable': False,\n",
       " 'isPickedUp': False,\n",
       " 'mass': 0.0,\n",
       " 'salientMaterials': None,\n",
       " 'receptacleObjectIds': ['Vase|+09.67|+00.47|-02.44',\n",
       "  'DeskLamp|+09.57|+00.47|-02.71',\n",
       "  'Mug|+09.36|+00.47|-02.23',\n",
       "  'Cup|+09.39|+00.47|-02.52',\n",
       "  'HousePlant|+09.50|+00.47|-01.87'],\n",
       " 'distance': 6.61782026,\n",
       " 'objectType': 'CoffeeTable',\n",
       " 'objectId': 'CoffeeTable|+09.51|+00.00|-02.26',\n",
       " 'parentReceptacle': None,\n",
       " 'parentReceptacles': None,\n",
       " 'currentTime': 0.0,\n",
       " 'isMoving': False,\n",
       " 'objectBounds': None}"
      ]
     },
     "execution_count": 168,
     "metadata": {},
     "output_type": "execute_result"
    }
   ],
   "source": [
    "to"
   ]
  },
  {
   "cell_type": "code",
   "execution_count": 169,
   "metadata": {},
   "outputs": [],
   "source": [
    "relevant_fields = ['name', 'objectType', 'objectId', 'position']\n",
    "\n",
    "build_furn_obj_df = []\n",
    "for scene, objects in multi_scene_data.items():\n",
    "    scene_objects = [{f: o[f] for f in relevant_fields} for o in objects['objects']]\n",
    "    _ = [o.update({'scene': scene}) for o in scene_objects]\n",
    "    build_furn_obj_df.extend(scene_objects)"
   ]
  },
  {
   "cell_type": "code",
   "execution_count": 170,
   "metadata": {},
   "outputs": [],
   "source": [
    "def label_targets(obj_cat):\n",
    "    if obj_cat in used_arget_objs:\n",
    "        return 'target'\n",
    "    if obj_cat in all_targets:\n",
    "        \n",
    "        return 'expanded target'\n",
    "    else:\n",
    "        return 'background'"
   ]
  },
  {
   "cell_type": "code",
   "execution_count": 171,
   "metadata": {},
   "outputs": [],
   "source": [
    "furn_obj_df = pd.DataFrame(build_furn_obj_df)\n",
    "furn_obj_df['category'] = furn_obj_df.objectType.apply(lambda x: furn_vs_obj_def[x])\n",
    "furn_obj_df['role'] = furn_obj_df.objectType.apply(label_targets)"
   ]
  },
  {
   "cell_type": "code",
   "execution_count": 172,
   "metadata": {},
   "outputs": [
    {
     "data": {
      "text/plain": [
       "(866,)"
      ]
     },
     "execution_count": 172,
     "metadata": {},
     "output_type": "execute_result"
    }
   ],
   "source": [
    "furn_obj_df.name.value_counts().shape"
   ]
  },
  {
   "cell_type": "code",
   "execution_count": 174,
   "metadata": {
    "scrolled": true
   },
   "outputs": [],
   "source": [
    "furn_obj_df['z'] = furn_obj_df['position'].apply(lambda x: x['z'])\n",
    "furn_obj_df['x'] = furn_obj_df['position'].apply(lambda x: x['x'])"
   ]
  },
  {
   "cell_type": "markdown",
   "metadata": {},
   "source": [
    "## donut charts"
   ]
  },
  {
   "cell_type": "code",
   "execution_count": 622,
   "metadata": {},
   "outputs": [],
   "source": [
    "# fig, ax = plt.subplots()\n",
    "\n",
    "# size = 0.3\n",
    "# vals = np.array([[60., 32.], [37., 40.], [29., 10.]])\n",
    "\n",
    "# cmap = plt.get_cmap(\"tab20c\")\n",
    "# outer_colors = cmap(np.arange(3)*4)\n",
    "# inner_colors = cmap(np.array([1, 2, 5, 6, 9, 10]))\n",
    "\n",
    "# ax.pie(vals.sum(axis=1), radius=1, colors=outer_colors,\n",
    "#        wedgeprops=dict(width=size, edgecolor='w'))\n",
    "\n",
    "# ax.pie(vals.flatten(), radius=1-size, colors=inner_colors,\n",
    "#        wedgeprops=dict(width=size, edgecolor='w'))\n",
    "\n",
    "# ax.set(aspect=\"equal\", title='Pie plot with `ax.pie`')\n",
    "# plt.show()"
   ]
  },
  {
   "cell_type": "code",
   "execution_count": 734,
   "metadata": {},
   "outputs": [],
   "source": [
    "def make_donut_plot(donut_data, startangle=-40):\n",
    "    fig, ax = plt.subplots(figsize=(16, 10), subplot_kw=dict(aspect=\"equal\"))\n",
    "\n",
    "    labels = [f'{count} {c}s' for c, count, in donut_data]\n",
    "\n",
    "    data = list(zip(*donut_data))[1]\n",
    "\n",
    "    wedges, texts = ax.pie(data, wedgeprops=dict(width=0.5), startangle=startangle)\n",
    "\n",
    "    bbox_props = dict(boxstyle=\"square, pad=0.2\", fc=\"w\", ec=\"k\", lw=0.72)\n",
    "    kw = dict(arrowprops=dict(arrowstyle=\"-\"),\n",
    "              bbox=bbox_props, zorder=0, va=\"center\")\n",
    "\n",
    "    for i, p in enumerate(wedges):\n",
    "        ang = (p.theta2 - p.theta1) / 2. + p.theta1\n",
    "        y = np.sin(np.deg2rad(ang))\n",
    "        x = np.cos(np.deg2rad(ang))\n",
    "        horizontalalignment = {-1: \"right\", 1: \"left\"}[int(np.sign(x))]\n",
    "        connectionstyle = \"angle,angleA=0,angleB={}\".format(ang)\n",
    "        kw[\"arrowprops\"].update({\"connectionstyle\": connectionstyle})\n",
    "        ax.annotate(labels[i], xy=(x, y), xytext=(1.35 *np.sign(x), 1.3 * y),\n",
    "                    horizontalalignment=horizontalalignment, **kw, fontsize=15)\n",
    "\n",
    "#     ax.set_title(title)\n",
    "    return fig"
   ]
  },
  {
   "cell_type": "code",
   "execution_count": 735,
   "metadata": {},
   "outputs": [],
   "source": [
    "def make_standard_fig(fig_plt, fig_labels=None, save = False, outfile='fig.pdf', main_color=None, label_color = '0.25'):\n",
    "    if fig_labels:\n",
    "        if 'fig_title' in fig_labels:\n",
    "            plt.title(fig_labels['fig_title'], fontsize=35, verticalalignment='bottom', color=label_color, y=1.1)\n",
    "        if 'y_label' in fig_labels:\n",
    "            plt.ylabel(fig_labels['y_label'], fontsize=35, labelpad=10, color=label_color)\n",
    "        if 'x_label' in fig_labels:\n",
    "            plt.xlabel(fig_labels['x_label'], fontsize=30, labelpad=10, color=label_color)\n",
    "    plt.tick_params(axis='x', which='major', labelsize=28)\n",
    "    plt.tick_params(axis='y', which='major', labelsize=23)\n",
    "    if save:\n",
    "        plt.savefig(outfile, bbox_inches='tight', facecolor=(1, 1, 1, 1))"
   ]
  },
  {
   "cell_type": "code",
   "execution_count": 698,
   "metadata": {
    "scrolled": true
   },
   "outputs": [],
   "source": [
    "# obj_cat_counts = furn_obj_df[furn_obj_df.category == 'furniture'].groupby('objectType').agg('count')['name']\n",
    "# donut_data = list(obj_cat_counts.to_dict().items())\n",
    "# donut_data = sorted(donut_data, key=lambda x: x[0])\n",
    "\n",
    "# fig_labels = {\n",
    "#     'fig_title': 'Furniture Categories',\n",
    "#       'x_label': '',\n",
    "#       'y_label': ''\n",
    "# }\n",
    "\n",
    "# fig_out = make_donut_plot(donut_data)\n",
    "# _ = make_standard_fig(fig_out, fig_labels, save=True, outfile='./figures/furniture_cats.pdf')"
   ]
  },
  {
   "cell_type": "code",
   "execution_count": 733,
   "metadata": {},
   "outputs": [],
   "source": [
    "# obj_only_df = furn_obj_df[furn_obj_df.category == 'object']\n",
    "# bg_obj_df = obj_only_df[obj_only_df.role == 'background']\n",
    "# obj_cat_counts = bg_obj_df.groupby('objectType').agg('count')['name']\n",
    "# donut_data = list(obj_cat_counts.to_dict().items())\n",
    "# donut_data = sorted(donut_data, key=lambda x: x[0])\n",
    "\n",
    "# fig_labels = {\n",
    "#     'fig_title': 'Background Object Categories',\n",
    "#       'x_label': '',\n",
    "#       'y_label': ''\n",
    "# }\n",
    "\n",
    "# fig_out = make_donut_plot(donut_data, 60)\n",
    "# _ = make_standard_fig(fig_out, fig_labels, save=True, outfile='./figures/background_cats.pdf')"
   ]
  },
  {
   "cell_type": "code",
   "execution_count": 745,
   "metadata": {},
   "outputs": [
    {
     "data": {
      "image/png": "[encoded data removed]",
      "text/plain": [
       "<Figure size 1152x720 with 1 Axes>"
      ]
     },
     "metadata": {},
     "output_type": "display_data"
    }
   ],
   "source": [
    "obj_only_df = furn_obj_df[furn_obj_df.category == 'object']\n",
    "bg_obj_df = obj_only_df[obj_only_df.role == 'target']\n",
    "obj_cat_counts = bg_obj_df.groupby('objectType').agg('count')['name']\n",
    "donut_data = list(obj_cat_counts.to_dict().items())\n",
    "donut_data = sorted(donut_data, key=lambda x: x[0])\n",
    "\n",
    "fig_labels = {\n",
    "    'fig_title': 'Target Object Categories',\n",
    "      'x_label': '',\n",
    "      'y_label': ''\n",
    "}\n",
    "\n",
    "fig_out = make_donut_plot(donut_data)\n",
    "_ = make_standard_fig(fig_out, fig_labels, save=True, outfile='./figures/target_cats.pdf')"
   ]
  },
  {
   "cell_type": "markdown",
   "metadata": {},
   "source": [
    "## heatmaps"
   ]
  },
  {
   "cell_type": "code",
   "execution_count": 418,
   "metadata": {},
   "outputs": [],
   "source": [
    "w_df = furn_obj_df[furn_obj_df.category == 'object']\n",
    "# w_df = furn_obj_df[furn_obj_df.role == 'target']\n",
    "# w_df = furn_obj_df"
   ]
  },
  {
   "cell_type": "code",
   "execution_count": 765,
   "metadata": {},
   "outputs": [
    {
     "data": {
      "text/plain": [
       "7.0"
      ]
     },
     "execution_count": 765,
     "metadata": {},
     "output_type": "execute_result"
    }
   ],
   "source": [
    "np.histogram2d(w_df.x, w_df.z, bins=[np.arange(1, 10, bin_size), np.arange(-5, -0.8, bin_size)])[0].max()"
   ]
  },
  {
   "cell_type": "code",
   "execution_count": 769,
   "metadata": {},
   "outputs": [],
   "source": [
    "bin_size = 0.3\n",
    "def make_heatmap(w_dfm, bin_size=0.3, vmax=20):\n",
    "    _ = plt.hist2d(w_df.x, w_df.z, bins=[np.arange(1, 10, bin_size), np.arange(-5, -0.8, bin_size)], cmap='viridis')\n",
    "    _ = plt.axes().set_aspect('equal')\n",
    "#     _ = plt.colorbar()"
   ]
  },
  {
   "cell_type": "code",
   "execution_count": 816,
   "metadata": {},
   "outputs": [
    {
     "name": "stderr",
     "output_type": "stream",
     "text": [
      "/usr/local/lib/python3.7/site-packages/matplotlib/figure.py:98: MatplotlibDeprecationWarning: \n",
      "Adding an axes using the same arguments as a previous axes currently reuses the earlier instance.  In a future version, a new instance will always be created and returned.  Meanwhile, this warning can be suppressed, and the future behavior ensured, by passing a unique label to each axes instance.\n",
      "  \"Adding an axes using the same arguments as a previous axes \"\n"
     ]
    },
    {
     "data": {
      "image/png": "[encoded data removed]",
      "text/plain": [
       "<Figure size 1152x720 with 1 Axes>"
      ]
     },
     "metadata": {},
     "output_type": "display_data"
    }
   ],
   "source": [
    "fig_labels = {\n",
    "    'fig_title': 'Target Object Locations',\n",
    "      'x_label': '',\n",
    "      'y_label': ''\n",
    "}\n",
    "w_df = furn_obj_df[furn_obj_df.role == 'target']\n",
    "make_heatmap(w_df, 0.3, 7)\n",
    "_ = plt.axis('off')\n",
    "make_standard_fig(fig_out, fig_labels, save=True, outfile='./figures/target_heatmap.pdf')"
   ]
  },
  {
   "cell_type": "code",
   "execution_count": 817,
   "metadata": {
    "code_folding": []
   },
   "outputs": [
    {
     "name": "stderr",
     "output_type": "stream",
     "text": [
      "/usr/local/lib/python3.7/site-packages/matplotlib/figure.py:98: MatplotlibDeprecationWarning: \n",
      "Adding an axes using the same arguments as a previous axes currently reuses the earlier instance.  In a future version, a new instance will always be created and returned.  Meanwhile, this warning can be suppressed, and the future behavior ensured, by passing a unique label to each axes instance.\n",
      "  \"Adding an axes using the same arguments as a previous axes \"\n"
     ]
    },
    {
     "data": {
      "image/png": "[encoded data removed]",
      "text/plain": [
       "<Figure size 1152x720 with 1 Axes>"
      ]
     },
     "metadata": {},
     "output_type": "display_data"
    }
   ],
   "source": [
    "fig_labels = {\n",
    "    'fig_title': 'Background Object Locations',\n",
    "      'x_label': '',\n",
    "      'y_label': ''\n",
    "}\n",
    "w_df = obj_only_df[obj_only_df.role == 'background']\n",
    "make_heatmap(w_df, 0.3, 7)\n",
    "_ = plt.axis('off')\n",
    "make_standard_fig(fig_out, fig_labels, save=True, outfile='./figures/background_heatmap.pdf')"
   ]
  },
  {
   "cell_type": "markdown",
   "metadata": {},
   "source": [
    "### walls"
   ]
  },
  {
   "cell_type": "code",
   "execution_count": 335,
   "metadata": {},
   "outputs": [],
   "source": [
    "ti = '/Users/schwenk/Downloads/floorplans'"
   ]
  },
  {
   "cell_type": "code",
   "execution_count": 348,
   "metadata": {},
   "outputs": [],
   "source": [
    "allfloorplans = os.listdir(ti)"
   ]
  },
  {
   "cell_type": "code",
   "execution_count": 865,
   "metadata": {},
   "outputs": [],
   "source": [
    "def read_img(img_path):\n",
    "    img = cv2.imread(img_path)\n",
    "    img = cv2.cvtColor(img, cv2.COLOR_BGR2GRAY)\n",
    "    ret, threshd = cv2.threshold(img, 253, 255,cv2.THRESH_BINARY)\n",
    "    threshd = (255 - threshd)\n",
    "    trim = 50\n",
    "    h, w = img.shape\n",
    "    return threshd[trim: h - 120, trim: w - 120]"
   ]
  },
  {
   "cell_type": "code",
   "execution_count": 868,
   "metadata": {},
   "outputs": [],
   "source": [
    "floorplan_images = [read_img(os.path.join(ti, i)) for i in allfloorplans]"
   ]
  },
  {
   "cell_type": "code",
   "execution_count": 869,
   "metadata": {},
   "outputs": [
    {
     "data": {
      "image/png": "[encoded data removed]",
      "text/plain": [
       "<PIL.Image.Image image mode=L size=2830x1230 at 0x171B52C10>"
      ]
     },
     "execution_count": 869,
     "metadata": {},
     "output_type": "execute_result"
    }
   ],
   "source": [
    "Image.fromarray(floorplan_images[0])"
   ]
  },
  {
   "cell_type": "code",
   "execution_count": 889,
   "metadata": {},
   "outputs": [],
   "source": [
    "fp_arr = np.zeros(floorplan_images[0].shape, np.float)\n",
    "for im in floorplan_images:\n",
    "    imarr = np.array(im, dtype=np.float)\n",
    "    fp_arr = fp_arr + imarr / len(floorplan_images) \n",
    "fp_arr = fp_arr * 255 / fp_arr.max()\n",
    "fp_arr = np.array(np.round(fp_arr), dtype=np.uint8)"
   ]
  },
  {
   "cell_type": "code",
   "execution_count": 914,
   "metadata": {},
   "outputs": [
    {
     "data": {
      "image/png": "[encoded data removed]",
      "text/plain": [
       "<Figure size 1152x720 with 1 Axes>"
      ]
     },
     "metadata": {},
     "output_type": "display_data"
    }
   ],
   "source": [
    "fig_labels = {\n",
    "    'fig_title': 'Wall locations',\n",
    "      'x_label': '',\n",
    "      'y_label': ''\n",
    "}\n",
    "\n",
    "cmap = plt.get_cmap('viridis')\n",
    "\n",
    "rgba_img = cmap(fp_arr)\n",
    "rgb_img = np.delete(rgba_img, 3, 2)\n",
    "ax = plt.axes()\n",
    "_ = ax.set_aspect('equal')\n",
    "_= plt.imshow(rgb_img)\n",
    "plt.xticks([])\n",
    "plt.yticks([])\n",
    "plt.rcParams[\"axes.edgecolor\"] = \"orange\"\n",
    "plt.rcParams[\"axes.linewidth\"] = 7\n",
    "make_standard_fig(fig_out, fig_labels, save=True, outfile='./figures/wall_heatmap.pdf')"
   ]
  },
  {
   "cell_type": "code",
   "execution_count": null,
   "metadata": {},
   "outputs": [],
   "source": []
  },
  {
   "cell_type": "code",
   "execution_count": null,
   "metadata": {},
   "outputs": [],
   "source": []
  },
  {
   "cell_type": "code",
   "execution_count": null,
   "metadata": {},
   "outputs": [],
   "source": []
  },
  {
   "cell_type": "markdown",
   "metadata": {},
   "source": [
    "# Volume "
   ]
  },
  {
   "cell_type": "markdown",
   "metadata": {},
   "source": [
    "## # scenes"
   ]
  },
  {
   "cell_type": "code",
   "execution_count": 2,
   "metadata": {
    "run_control": {
     "frozen": false,
     "read_only": false
    }
   },
   "outputs": [],
   "source": [
    "scene_names_df = pd.read_csv('/Users/schwenk/wrk/transfer/src/ai2thor/scene_list.txt', header=None)\n",
    "scene_names_df.columns = ['name']"
   ]
  },
  {
   "cell_type": "code",
   "execution_count": 3,
   "metadata": {
    "run_control": {
     "frozen": false,
     "read_only": false
    }
   },
   "outputs": [
    {
     "data": {
      "text/html": [
       "<div>\n",
       "<style scoped>\n",
       "    .dataframe tbody tr th:only-of-type {\n",
       "        vertical-align: middle;\n",
       "    }\n",
       "\n",
       "    .dataframe tbody tr th {\n",
       "        vertical-align: top;\n",
       "    }\n",
       "\n",
       "    .dataframe thead th {\n",
       "        text-align: right;\n",
       "    }\n",
       "</style>\n",
       "<table border=\"1\" class=\"dataframe\">\n",
       "  <thead>\n",
       "    <tr style=\"text-align: right;\">\n",
       "      <th></th>\n",
       "      <th>split</th>\n",
       "    </tr>\n",
       "  </thead>\n",
       "  <tbody>\n",
       "    <tr>\n",
       "      <th>train</th>\n",
       "      <td>75</td>\n",
       "    </tr>\n",
       "    <tr>\n",
       "      <th>rtest</th>\n",
       "      <td>10</td>\n",
       "    </tr>\n",
       "    <tr>\n",
       "      <th>rval</th>\n",
       "      <td>4</td>\n",
       "    </tr>\n",
       "  </tbody>\n",
       "</table>\n",
       "</div>"
      ],
      "text/plain": [
       "       split\n",
       "train     75\n",
       "rtest     10\n",
       "rval       4"
      ]
     },
     "execution_count": 3,
     "metadata": {},
     "output_type": "execute_result"
    }
   ],
   "source": [
    "scene_names_df['split'] = scene_names_df.name.str.lower().str.split('_').apply(lambda x: ''.join([i for i in x[1].strip() if not i.isdigit()]))\n",
    "scene_names_df.name = scene_names_df.name.str.strip()\n",
    "scene_counts = pd.DataFrame(scene_names_df.split.value_counts())\n",
    "all_scenes = scene_names_df.name.tolist()\n",
    "scene_counts"
   ]
  },
  {
   "cell_type": "markdown",
   "metadata": {},
   "source": [
    "## # assets"
   ]
  },
  {
   "cell_type": "code",
   "execution_count": null,
   "metadata": {
    "run_control": {
     "frozen": false,
     "read_only": false
    }
   },
   "outputs": [],
   "source": [
    "furn_vs_obj_def = {\n",
    "    'ArmChair': 'furniture',\n",
    "    'Bed': 'furniture',\n",
    "     'Book': 'object',\n",
    "     'Bowl': 'object',\n",
    "     'ButterKnife': 'object',\n",
    "     'Chair': 'furniture',\n",
    "     'CoffeeTable': 'furniture',\n",
    "     'Desk': 'furniture',\n",
    "     'DeskLamp': 'object',\n",
    "     'DiningTable': 'furniture',\n",
    "     'Dresser': 'furniture',\n",
    "     'Fork': 'object',\n",
    "     'HousePlant': 'object',\n",
    "     'Mug': 'object',\n",
    "     'Plate': 'object',\n",
    "     'Shelf': 'furniture',\n",
    "     'SideTable': 'furniture',\n",
    "     'Sofa': 'furniture',\n",
    "     'Vase': 'object',\n",
    "}"
   ]
  },
  {
   "cell_type": "code",
   "execution_count": null,
   "metadata": {
    "run_control": {
     "frozen": false,
     "read_only": false
    }
   },
   "outputs": [],
   "source": []
  },
  {
   "cell_type": "code",
   "execution_count": null,
   "metadata": {
    "run_control": {
     "frozen": false,
     "read_only": false
    }
   },
   "outputs": [],
   "source": []
  }
 ],
 "metadata": {
  "kernelspec": {
   "display_name": "thor_real",
   "language": "python",
   "name": "thor_real"
  },
  "language_info": {
   "codemirror_mode": {
    "name": "ipython",
    "version": 3
   },
   "file_extension": ".py",
   "mimetype": "text/x-python",
   "name": "python",
   "nbconvert_exporter": "python",
   "pygments_lexer": "ipython3",
   "version": "3.7.5"
  }
 },
 "nbformat": 4,
 "nbformat_minor": 2
}
